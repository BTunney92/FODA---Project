{
 "cells": [
  {
   "cell_type": "markdown",
   "id": "a2ab7219-d073-45c6-8517-23673d6a5b38",
   "metadata": {},
   "source": [
    "# Fundamentals of Data Analysis, Winter 21/22\n",
    "- Author: Brendan Tunney"
   ]
  },
  {
   "cell_type": "code",
   "execution_count": null,
   "id": "1cf7b07f-7909-47e7-ab73-caddd6779d35",
   "metadata": {},
   "outputs": [],
   "source": []
  }
 ],
 "metadata": {
  "kernelspec": {
   "display_name": "Python 3",
   "language": "python",
   "name": "python3"
  },
  "language_info": {
   "codemirror_mode": {
    "name": "ipython",
    "version": 3
   },
   "file_extension": ".py",
   "mimetype": "text/x-python",
   "name": "python",
   "nbconvert_exporter": "python",
   "pygments_lexer": "ipython3",
   "version": "3.8.8"
  }
 },
 "nbformat": 4,
 "nbformat_minor": 5
}
