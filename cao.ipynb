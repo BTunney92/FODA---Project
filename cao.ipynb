{
 "cells": [
  {
   "cell_type": "markdown",
   "id": "a2ab7219-d073-45c6-8517-23673d6a5b38",
   "metadata": {},
   "source": [
    "# Fundamentals of Data Analysis, Winter 21/22\n",
    "- Author: Brendan Tunney\n",
    "- ID - G00270683"
   ]
  },
  {
   "cell_type": "markdown",
   "id": "f0f3ce78-e6ae-4f2a-b2f0-41224f176ca2",
   "metadata": {},
   "source": [
    "## Importing the CAO data\n"
   ]
  },
  {
   "cell_type": "code",
   "execution_count": 7,
   "id": "1cf7b07f-7909-47e7-ab73-caddd6779d35",
   "metadata": {},
   "outputs": [],
   "source": [
    "#Importing libraries\n",
    "\n",
    "import matplotlib.pyplot as plt\n",
    "import pandas as pd\n",
    "import numpy as np\n",
    "import seaborn as sns\n",
    "import re # {1}\n",
    "import requests as rq #{1} # To retrieve HTTP Data\n",
    "from bs4 import BeautifulSoup # Used to pull data from HTML\n",
    "import csv\n",
    "from unicodedata import normalize"
   ]
  },
  {
   "cell_type": "code",
   "execution_count": null,
   "id": "0a44bcbd-325d-48bd-9326-a3f003808ab6",
   "metadata": {
    "tags": []
   },
   "outputs": [],
   "source": []
  },
  {
   "cell_type": "code",
   "execution_count": 4,
   "id": "be2220d7-0ce6-441a-82fd-5e9163db9f69",
   "metadata": {
    "tags": []
   },
   "outputs": [],
   "source": []
  },
  {
   "cell_type": "code",
   "execution_count": null,
   "id": "8d01c1ab-a995-4bef-8446-2e42ecf90e2f",
   "metadata": {},
   "outputs": [],
   "source": []
  }
 ],
 "metadata": {
  "kernelspec": {
   "display_name": "Python 3",
   "language": "python",
   "name": "python3"
  },
  "language_info": {
   "codemirror_mode": {
    "name": "ipython",
    "version": 3
   },
   "file_extension": ".py",
   "mimetype": "text/x-python",
   "name": "python",
   "nbconvert_exporter": "python",
   "pygments_lexer": "ipython3",
   "version": "3.8.8"
  }
 },
 "nbformat": 4,
 "nbformat_minor": 5
}
