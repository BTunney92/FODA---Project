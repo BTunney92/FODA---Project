{
 "cells": [
  {
   "cell_type": "markdown",
   "id": "a2ab7219-d073-45c6-8517-23673d6a5b38",
   "metadata": {},
   "source": [
    "# Fundamentals of Data Analysis, Winter 21/22\n",
    "- Author: Brendan Tunney\n",
    "- ID - G00270683"
   ]
  },
  {
   "cell_type": "markdown",
   "id": "f0f3ce78-e6ae-4f2a-b2f0-41224f176ca2",
   "metadata": {},
   "source": [
    "## Importing the CAO data\n"
   ]
  },
  {
   "cell_type": "code",
   "execution_count": 1,
   "id": "1cf7b07f-7909-47e7-ab73-caddd6779d35",
   "metadata": {},
   "outputs": [],
   "source": [
    "#Importing libraries\n",
    "\n",
    "import matplotlib.pyplot as plt\n",
    "import pandas as pd\n",
    "import numpy as np\n",
    "import re # regular expressions {1}\n",
    "import requests as rq #{1} # To retrieve HTTP Data\n",
    "import urllib.request as urlrq # Importing pythons URL module\n",
    "import csv # importing csv module to read, write csv\n",
    "from unicodedata import normalize # Imported to use normalised string values.\n",
    "# Dates and times.\n",
    "import datetime as dt # Importing date/time module\n"
   ]
  },
  {
   "cell_type": "markdown",
   "id": "8c5c09d4-05ea-4987-8735-bc272cbc91e9",
   "metadata": {},
   "source": [
    "### 2021 Points"
   ]
  },
  {
   "cell_type": "code",
   "execution_count": 2,
   "id": "0a44bcbd-325d-48bd-9326-a3f003808ab6",
   "metadata": {
    "tags": []
   },
   "outputs": [
    {
     "data": {
      "text/plain": [
       "<Response [200]>"
      ]
     },
     "execution_count": 2,
     "metadata": {},
     "output_type": "execute_result"
    }
   ],
   "source": [
    "resp = rq.get('http://www2.cao.ie/points/l8.php') # Getting CAO points data for 2021\n",
    "\n",
    "resp # checking response. 200 = succesful"
   ]
  },
  {
   "cell_type": "code",
   "execution_count": 3,
   "id": "29bb6706-bd75-4fec-b27d-52e5f59c0527",
   "metadata": {},
   "outputs": [],
   "source": [
    "now = dt.datetime.now() # Get the current date and time.\n",
    "\n",
    "nowstr = now.strftime('%Y%m%d_%H%M%S') # # Format date and time as a string.\n",
    "\n",
    "pathhtml = 'resp_' + nowstr + '.html' # Creating file path"
   ]
  },
  {
   "cell_type": "code",
   "execution_count": 4,
   "id": "be2220d7-0ce6-441a-82fd-5e9163db9f69",
   "metadata": {
    "tags": []
   },
   "outputs": [],
   "source": [
    "# If we decode per server as ISO-8859-1, it will be noted that one line uses \\x96 - not defined in ISO-8859-1. CP1252 is used instead.\n",
    "\n",
    "original_encoding = resp.encoding\n",
    "\n",
    "resp.encoding = 'cp1252'\n"
   ]
  },
  {
   "cell_type": "code",
   "execution_count": 5,
   "id": "05b52325-d7a7-431e-8c66-f9540303c124",
   "metadata": {},
   "outputs": [],
   "source": [
    "re_course = re.compile(r'([A-Z]{2}[0-9]{3})(.*)') # Compile the reg. expressions."
   ]
  },
  {
   "cell_type": "code",
   "execution_count": 6,
   "id": "b57ecb87-1167-49df-a678-dd44bfc35f3a",
   "metadata": {},
   "outputs": [],
   "source": [
    "with open(pathhtml, 'w') as f:\n",
    "    f.write(resp.text)"
   ]
  },
  {
   "cell_type": "code",
   "execution_count": 7,
   "id": "04d3759f-a01c-4e65-ac0a-e231c582f55d",
   "metadata": {},
   "outputs": [],
   "source": [
    "path2021 = 'df2021'  + '.csv'"
   ]
  },
  {
   "cell_type": "code",
   "execution_count": 8,
   "id": "22aba59b-e2bc-4282-bd95-0a9380c30591",
   "metadata": {},
   "outputs": [
    {
     "name": "stdout",
     "output_type": "stream",
     "text": [
      "Total number of lines is 949.\n"
     ]
    }
   ],
   "source": [
    "no_lines = 0 # Counting # of lines processed\n",
    "\n",
    "with open(path2021, 'w') as f:                                            # Open csv file to write\n",
    "   \n",
    "    f.write(','.join(['code', 'title', 'pointsR1', 'pointsR2']) + '\\n')   # Write file header\n",
    "    for line in resp.iter_lines():                                        # Loop thorugh lines of response data\n",
    "        dline = line.decode('cp1252')                                     # Decode line\n",
    "        if re_course.fullmatch(dline):                                    # Match only lines with a course\n",
    "            no_lines = no_lines + 1                                       # If matched,add '1' to the counter\n",
    "            course_code = dline[:5]                                       # Course code (5 characters)\n",
    "            course_title = dline[7:57].strip()                            # Course title and stripping out blanks\n",
    "            course_points = re.split(' +', dline[60:])                    # First round points accounting for spaces\n",
    "            if len(course_points) != 2:                                   # Second round points - if applicable.\n",
    "                course_points = course_points[:2]\n",
    "            linesplit = [course_code, course_title, course_points[0], course_points[1]] # Creating header array.\n",
    "            f.write(','.join(linesplit) + '\\n')                           # Rejoining split values with comma seperation and adding new line for each course\n",
    "\n",
    "print(f\"Total number of lines is {no_lines}.\")                            # Number of processed lines"
   ]
  },
  {
   "cell_type": "code",
   "execution_count": 9,
   "id": "5c80d992-2e8e-4930-8593-2aac163ed85b",
   "metadata": {},
   "outputs": [],
   "source": [
    "df2021 = pd.read_csv(path2021, encoding='cp1252')"
   ]
  },
  {
   "cell_type": "code",
   "execution_count": null,
   "id": "542cfdce-f713-490e-9c84-3546a5755abb",
   "metadata": {},
   "outputs": [],
   "source": []
  },
  {
   "cell_type": "markdown",
   "id": "ad6322b8-a95a-4242-8bc3-818cc28fe6a9",
   "metadata": {},
   "source": [
    "### 2020 Points"
   ]
  },
  {
   "cell_type": "code",
   "execution_count": 10,
   "id": "94f9d32a-ea94-4d52-ab10-47d006f83f7b",
   "metadata": {},
   "outputs": [],
   "source": [
    "url = 'http://www2.cao.ie/points/CAOPointsCharts2020.xlsx' # URL for 2020 points\n",
    "    \n",
    "df2020 = pd.read_excel(url, skiprows = 10)                 # read in excel file, skipping first 10 rows that do not contain course data    \n",
    "\n",
    "# Renaming columns to match 2021 file\n",
    "\n",
    "df2020.rename(columns={\"COURSE CODE2\": \"code\", \"R1 POINTS\": \"pointsR1\", \"R2 POINTS\": \"pointsR2\", \"COURSE TITLE\": \"title\"}, inplace=True)\n",
    "\n",
    "new_col_order = ['code', 'title', 'pointsR1', 'pointsR2', 'EOS','LEVEL']   # New column order list\n",
    "df2020 = df2020.reindex(columns = new_col_order)                     # Re-ordering columns\n",
    "\n",
    "df2020 = df2020.loc[df2020.loc[:, 'LEVEL'] == 8]                     # Added to filter for just level 8 - matching current data for 2021 & 2019\n",
    "\n",
    "df2020.set_index('code', inplace=True)                               # set idex column to ''code''\n",
    "\n"
   ]
  },
  {
   "cell_type": "code",
   "execution_count": null,
   "id": "f40f7cd3-27e0-43ad-9ee2-1d97a39901b0",
   "metadata": {},
   "outputs": [],
   "source": []
  },
  {
   "cell_type": "code",
   "execution_count": 11,
   "id": "74a5666d-8566-4acf-8408-d88f380773f3",
   "metadata": {},
   "outputs": [],
   "source": [
    "data2020 = 'df2020' + '.csv' # Filepath for df"
   ]
  },
  {
   "cell_type": "code",
   "execution_count": 12,
   "id": "c53f5650-29ba-4088-b5b9-f50654b579e5",
   "metadata": {},
   "outputs": [],
   "source": [
    "df2020.to_csv(data2020) # saving df"
   ]
  },
  {
   "cell_type": "markdown",
   "id": "652c6de3-6f7e-4783-83bb-3690f83d960e",
   "metadata": {},
   "source": [
    "### 2019 Points"
   ]
  },
  {
   "cell_type": "code",
   "execution_count": 13,
   "id": "1df31ad4-d05f-4d9e-83c5-27df0caaa4eb",
   "metadata": {},
   "outputs": [],
   "source": [
    "import tabula # importing tabula module for pdf read"
   ]
  },
  {
   "cell_type": "code",
   "execution_count": 14,
   "id": "d74cd671-2978-40bc-ad11-d61175b7cfb4",
   "metadata": {},
   "outputs": [],
   "source": [
    "url = 'http://www2.cao.ie/points/lvl8_19.pdf'\n",
    "\n",
    "#df2019 = tabula.read_pdf(url, pages = \"all\") # reading in table, important to specify pages = \"all\" or you will only read 1\n",
    "\n",
    "tabula.convert_into(url, \"df2019.csv\", output_format=\"csv\", pages='all') # Using tabula module to convert to csv"
   ]
  },
  {
   "cell_type": "code",
   "execution_count": 15,
   "id": "0ea86e42-426a-434c-9db0-45fc6c49bf8f",
   "metadata": {},
   "outputs": [],
   "source": [
    "df2019 = pd.read_csv('df2019.csv', sep=',')\n",
    "df2019.dropna(                         # Using drop function to remove blank (NaN lines)\n",
    "    axis=0,                            # \"0\" = Row. \"1\" = Column\n",
    "    how='any',                         # \"Any\" will remove a row with just a single blank cell\n",
    "    thresh=None,                       # Can be used to set a 'threshold' of how many empty cells are tolerated\n",
    "    subset=None,                       # Set the array to be considered, none defaults to all\n",
    "    inplace=True                       # Must be set to \"true\" to allow changes to be made\n",
    " )\n",
    "\n",
    "df2019.rename(columns={\"Course Code\": \"code\",\"INSTITUTION and COURSE\":\"title\"}, inplace =True)\n",
    "\n",
    "df2019.set_index('code', inplace=True) # set idex column to ''code''\n",
    "\n",
    "data2019 = 'df2019' + '.csv'\n",
    "df2019.to_csv(data2019) # creating new df"
   ]
  },
  {
   "cell_type": "markdown",
   "id": "23750646-2796-4faf-ab9f-dd866f4058b2",
   "metadata": {},
   "source": [
    "### CAO Comparison"
   ]
  },
  {
   "cell_type": "markdown",
   "id": "8d22d76e-ec1e-48e7-925d-5657954012ec",
   "metadata": {},
   "source": [
    "To begin the points comparison, I will merge the datasets created above"
   ]
  },
  {
   "cell_type": "code",
   "execution_count": 16,
   "id": "a550c434-3315-4545-bcac-1646ad9dba07",
   "metadata": {},
   "outputs": [],
   "source": [
    "#Reading in datasets\n",
    "\n",
    "data2021 = pd.read_csv('df2021.csv')\n",
    "data2020 = pd.read_csv('df2020.csv')\n",
    "data2019 = pd.read_csv('df2019.csv')"
   ]
  },
  {
   "cell_type": "markdown",
   "id": "1407c4aa-88a1-49e4-a4b1-84b46a7618b3",
   "metadata": {},
   "source": [
    "Joining 2021 & 2020 datasets"
   ]
  },
  {
   "cell_type": "markdown",
   "id": "df245267-c24e-46c8-9a2d-38181673ec62",
   "metadata": {},
   "source": [
    "After reviewing the raw data, the three files had different point measurements. Only the 2020 file contained both Round 1 & 2 points and EOS (End of Season). For this reason, I have decided to do the comparison between 2021 & 2020 and 2020 & 2019 to enable a 'like for like' model."
   ]
  },
  {
   "cell_type": "markdown",
   "id": "b25a1b2b-7eb9-4ae3-a996-846d82fa99f8",
   "metadata": {},
   "source": [
    "Merging 2021 & 2020"
   ]
  },
  {
   "cell_type": "code",
   "execution_count": 17,
   "id": "c32b33c0-e160-42d7-9b90-4129fa3f40d9",
   "metadata": {},
   "outputs": [],
   "source": [
    "\n",
    "data21_20 = data2021.merge(data2020, on='code') # merging 2021 & 2020 df based on 'code'\n",
    "data21_20 = data21_20.drop(['title_y','EOS','LEVEL','pointsR2_x', 'pointsR2_y'], axis=1) #removing column to do comparison between round 1 points\n",
    "data21_20.rename(columns={\"title_x\": \"Title\",\"pointsR1_x\":\"Points_21\", \"pointsR1_y\":\"Points_20\"}, inplace =True)\n",
    "\n",
    "columns = ['Points_21', 'Points_20'] # To replace the str values (#matric) with NaN\n",
    "data21_20[columns] = data21_20[columns].apply(pd.to_numeric, errors='coerce', axis=1)\n",
    "\n",
    "data21_20.dropna(axis=0, how='any', thresh=None,subset=None, inplace=True) # Using drop function to remove 'NaN' values\n",
    "\n",
    "data21_20.to_csv(\"df21_20.csv\", index=False)"
   ]
  },
  {
   "cell_type": "markdown",
   "id": "60459c68-03fd-4e06-a31e-b797da41df21",
   "metadata": {},
   "source": [
    "Joining 2020 & 2019 datasets"
   ]
  },
  {
   "cell_type": "code",
   "execution_count": 25,
   "id": "e63bd352-6405-4b35-839b-4586e16807ce",
   "metadata": {},
   "outputs": [],
   "source": [
    "data20_19 = data2020.merge(data2019, on='code')\n",
    "data20_19 = data20_19.drop(['pointsR1', 'pointsR2', 'LEVEL', 'title_y', 'Mid'], axis=1) # removing columns to compare EOS points\n",
    "data20_19.rename(columns={\"title_x\": \"Title\",\"EOS_x\": \"EOS_20\", \"EOS_y\":\"EOS_19\"}, inplace=True) # reaming columns.dropna(inplace=True)\n",
    "\n",
    "columns = ['EOS_20', 'EOS_19'] # To replace the str values (#matric) with NaN\n",
    "data20_19[columns] = data20_19[columns].apply(pd.to_numeric, errors='coerce', axis=1)\n",
    "\n",
    "data20_19.dropna(axis=0, how='any', thresh=None,subset=None, inplace=True) # Using drop function to remove 'NaN' values\n",
    "\n",
    "data20_19.to_csv(\"df20_19.csv\", index=False) #saving csv"
   ]
  },
  {
   "cell_type": "code",
   "execution_count": 35,
   "id": "796655e9-ebdc-40ee-89c9-4d1475e13f87",
   "metadata": {},
   "outputs": [
    {
     "data": {
      "text/html": [
       "<div>\n",
       "<style scoped>\n",
       "    .dataframe tbody tr th:only-of-type {\n",
       "        vertical-align: middle;\n",
       "    }\n",
       "\n",
       "    .dataframe tbody tr th {\n",
       "        vertical-align: top;\n",
       "    }\n",
       "\n",
       "    .dataframe thead th {\n",
       "        text-align: right;\n",
       "    }\n",
       "</style>\n",
       "<table border=\"1\" class=\"dataframe\">\n",
       "  <thead>\n",
       "    <tr style=\"text-align: right;\">\n",
       "      <th></th>\n",
       "      <th>Points_21</th>\n",
       "      <th>Points_20</th>\n",
       "    </tr>\n",
       "  </thead>\n",
       "  <tbody>\n",
       "    <tr>\n",
       "      <th>count</th>\n",
       "      <td>729.000000</td>\n",
       "      <td>729.000000</td>\n",
       "    </tr>\n",
       "    <tr>\n",
       "      <th>mean</th>\n",
       "      <td>382.631001</td>\n",
       "      <td>364.109739</td>\n",
       "    </tr>\n",
       "    <tr>\n",
       "      <th>std</th>\n",
       "      <td>101.173199</td>\n",
       "      <td>90.157168</td>\n",
       "    </tr>\n",
       "    <tr>\n",
       "      <th>min</th>\n",
       "      <td>201.000000</td>\n",
       "      <td>184.000000</td>\n",
       "    </tr>\n",
       "    <tr>\n",
       "      <th>25%</th>\n",
       "      <td>300.000000</td>\n",
       "      <td>298.000000</td>\n",
       "    </tr>\n",
       "    <tr>\n",
       "      <th>50%</th>\n",
       "      <td>368.000000</td>\n",
       "      <td>341.000000</td>\n",
       "    </tr>\n",
       "    <tr>\n",
       "      <th>75%</th>\n",
       "      <td>466.000000</td>\n",
       "      <td>433.000000</td>\n",
       "    </tr>\n",
       "    <tr>\n",
       "      <th>max</th>\n",
       "      <td>613.000000</td>\n",
       "      <td>588.000000</td>\n",
       "    </tr>\n",
       "  </tbody>\n",
       "</table>\n",
       "</div>"
      ],
      "text/plain": [
       "        Points_21   Points_20\n",
       "count  729.000000  729.000000\n",
       "mean   382.631001  364.109739\n",
       "std    101.173199   90.157168\n",
       "min    201.000000  184.000000\n",
       "25%    300.000000  298.000000\n",
       "50%    368.000000  341.000000\n",
       "75%    466.000000  433.000000\n",
       "max    613.000000  588.000000"
      ]
     },
     "execution_count": 35,
     "metadata": {},
     "output_type": "execute_result"
    }
   ],
   "source": [
    "data21_20.describe() # Getting summary stats for 2021/2020"
   ]
  },
  {
   "cell_type": "code",
   "execution_count": 36,
   "id": "ca4d5e17-f310-408f-82c5-2fe9a2ce3cd5",
   "metadata": {},
   "outputs": [
    {
     "data": {
      "text/html": [
       "<div>\n",
       "<style scoped>\n",
       "    .dataframe tbody tr th:only-of-type {\n",
       "        vertical-align: middle;\n",
       "    }\n",
       "\n",
       "    .dataframe tbody tr th {\n",
       "        vertical-align: top;\n",
       "    }\n",
       "\n",
       "    .dataframe thead th {\n",
       "        text-align: right;\n",
       "    }\n",
       "</style>\n",
       "<table border=\"1\" class=\"dataframe\">\n",
       "  <thead>\n",
       "    <tr style=\"text-align: right;\">\n",
       "      <th></th>\n",
       "      <th>EOS_20</th>\n",
       "      <th>EOS_19</th>\n",
       "    </tr>\n",
       "  </thead>\n",
       "  <tbody>\n",
       "    <tr>\n",
       "      <th>count</th>\n",
       "      <td>660.000000</td>\n",
       "      <td>660.000000</td>\n",
       "    </tr>\n",
       "    <tr>\n",
       "      <th>mean</th>\n",
       "      <td>369.421212</td>\n",
       "      <td>358.010606</td>\n",
       "    </tr>\n",
       "    <tr>\n",
       "      <th>std</th>\n",
       "      <td>96.493302</td>\n",
       "      <td>88.593554</td>\n",
       "    </tr>\n",
       "    <tr>\n",
       "      <th>min</th>\n",
       "      <td>195.000000</td>\n",
       "      <td>168.000000</td>\n",
       "    </tr>\n",
       "    <tr>\n",
       "      <th>25%</th>\n",
       "      <td>297.000000</td>\n",
       "      <td>290.750000</td>\n",
       "    </tr>\n",
       "    <tr>\n",
       "      <th>50%</th>\n",
       "      <td>351.000000</td>\n",
       "      <td>338.000000</td>\n",
       "    </tr>\n",
       "    <tr>\n",
       "      <th>75%</th>\n",
       "      <td>440.000000</td>\n",
       "      <td>420.000000</td>\n",
       "    </tr>\n",
       "    <tr>\n",
       "      <th>max</th>\n",
       "      <td>679.000000</td>\n",
       "      <td>601.000000</td>\n",
       "    </tr>\n",
       "  </tbody>\n",
       "</table>\n",
       "</div>"
      ],
      "text/plain": [
       "           EOS_20      EOS_19\n",
       "count  660.000000  660.000000\n",
       "mean   369.421212  358.010606\n",
       "std     96.493302   88.593554\n",
       "min    195.000000  168.000000\n",
       "25%    297.000000  290.750000\n",
       "50%    351.000000  338.000000\n",
       "75%    440.000000  420.000000\n",
       "max    679.000000  601.000000"
      ]
     },
     "execution_count": 36,
     "metadata": {},
     "output_type": "execute_result"
    }
   ],
   "source": [
    "data20_19.describe() # Getting summary stats for 2021/2020"
   ]
  },
  {
   "cell_type": "code",
   "execution_count": 19,
   "id": "e575441b-a74b-4b9f-87e3-79bb71aea6bf",
   "metadata": {},
   "outputs": [],
   "source": [
    "import seaborn as sns                  #Importing seaborn for plotting\n",
    "data21_20 = pd.read_csv('df21_20.csv') # reading in csv file"
   ]
  },
  {
   "cell_type": "code",
   "execution_count": 27,
   "id": "f4a6e660-3fc9-4342-8e18-757c10bbb48c",
   "metadata": {},
   "outputs": [
    {
     "data": {
      "image/png": "[encoded data removed]",
      "text/plain": [
       "<Figure size 432x288 with 1 Axes>"
      ]
     },
     "metadata": {
      "needs_background": "light"
     },
     "output_type": "display_data"
    }
   ],
   "source": [
    "plt.hist(data=data21_20, x = 'Points_21', bins = 8, alpha = 0.4, label = \"2021\")\n",
    "plt.hist(data=data21_20, x = 'Points_20', bins =8, alpha = 0.4, label = '2020')\n",
    "plt.legend()\n",
    "plt.ylabel(\"Count\")\n",
    "plt.xlabel(\"CAO Points\")\n",
    "plt.show()\n",
    "\n",
    "\n"
   ]
  },
  {
   "cell_type": "code",
   "execution_count": 37,
   "id": "ce689d35-20cd-4777-9567-b2339f47adcc",
   "metadata": {},
   "outputs": [
    {
     "data": {
      "image/png": "[encoded data removed]",
      "text/plain": [
       "<Figure size 432x288 with 1 Axes>"
      ]
     },
     "metadata": {
      "needs_background": "light"
     },
     "output_type": "display_data"
    }
   ],
   "source": [
    "plt.hist(data=data20_19, x = 'EOS_20', bins = 8, alpha = 0.4, label = \"2020\")\n",
    "plt.hist(data=data20_19, x = 'EOS_19', bins =8, alpha = 0.4, label = '2019')\n",
    "plt.legend()\n",
    "plt.ylabel(\"Count\")\n",
    "plt.xlabel(\"CAO Points\")\n",
    "plt.show()"
   ]
  },
  {
   "cell_type": "code",
   "execution_count": null,
   "id": "4ffcd5e4-1cea-428c-bb2c-d163f894985c",
   "metadata": {},
   "outputs": [],
   "source": []
  },
  {
   "cell_type": "markdown",
   "id": "230537e7-1e53-42d8-bff3-a045fd723cbe",
   "metadata": {},
   "source": [
    "To compare overall points, I have created an overlay histogram for both merged datasets. From this and the summary statistics above, we can see that, overall, points have increased year on year."
   ]
  },
  {
   "cell_type": "code",
   "execution_count": 39,
   "id": "02146810-bb28-45c9-9f08-a78d7325e195",
   "metadata": {},
   "outputs": [
    {
     "data": {
      "text/plain": [
       "<AxesSubplot:xlabel='EOS_20'>"
      ]
     },
     "execution_count": 39,
     "metadata": {},
     "output_type": "execute_result"
    },
    {
     "data": {
      "image/png": "[encoded data removed]",
      "text/plain": [
       "<Figure size 432x288 with 1 Axes>"
      ]
     },
     "metadata": {
      "needs_background": "light"
     },
     "output_type": "display_data"
    }
   ],
   "source": []
  },
  {
   "cell_type": "code",
   "execution_count": null,
   "id": "2b5cf22b-cb86-4419-a06d-b97868b4d44d",
   "metadata": {},
   "outputs": [],
   "source": []
  },
  {
   "cell_type": "code",
   "execution_count": null,
   "id": "a4d097ee-9661-410c-ba4f-3a4d9ee625ed",
   "metadata": {},
   "outputs": [],
   "source": []
  },
  {
   "cell_type": "code",
   "execution_count": null,
   "id": "18084b5c-31ba-4446-9077-0c75e27067c3",
   "metadata": {},
   "outputs": [],
   "source": []
  },
  {
   "cell_type": "code",
   "execution_count": null,
   "id": "79b56d02-744c-4987-80b4-8959d7030a3d",
   "metadata": {},
   "outputs": [],
   "source": []
  },
  {
   "cell_type": "code",
   "execution_count": null,
   "id": "22a2b16f-b549-49e1-8c61-1bd64b1d9e12",
   "metadata": {},
   "outputs": [],
   "source": []
  }
 ],
 "metadata": {
  "kernelspec": {
   "display_name": "Python 3",
   "language": "python",
   "name": "python3"
  },
  "language_info": {
   "codemirror_mode": {
    "name": "ipython",
    "version": 3
   },
   "file_extension": ".py",
   "mimetype": "text/x-python",
   "name": "python",
   "nbconvert_exporter": "python",
   "pygments_lexer": "ipython3",
   "version": "3.8.8"
  }
 },
 "nbformat": 4,
 "nbformat_minor": 5
}
