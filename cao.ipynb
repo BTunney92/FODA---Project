{
 "cells": [
  {
   "cell_type": "markdown",
   "id": "a2ab7219-d073-45c6-8517-23673d6a5b38",
   "metadata": {},
   "source": [
    "# Fundamentals of Data Analysis, Winter 21/22\n",
    "- Author: Brendan Tunney\n",
    "- ID - G00270683"
   ]
  },
  {
   "cell_type": "markdown",
   "id": "f0f3ce78-e6ae-4f2a-b2f0-41224f176ca2",
   "metadata": {},
   "source": [
    "## Importing the CAO data\n"
   ]
  },
  {
   "cell_type": "code",
   "execution_count": 53,
   "id": "1cf7b07f-7909-47e7-ab73-caddd6779d35",
   "metadata": {},
   "outputs": [],
   "source": [
    "#Importing libraries\n",
    "\n",
    "import matplotlib.pyplot as plt\n",
    "import pandas as pd\n",
    "import numpy as np\n",
    "import re # regular expressions {1}\n",
    "import requests as rq #{1} # To retrieve HTTP Data\n",
    "import urllib.request as urlrq # Importing pythons URL module\n",
    "import csv # importing csv module to read, write csv\n",
    "from unicodedata import normalize # Imported to use normalised string values.\n",
    "# Dates and times.\n",
    "import datetime as dt # Importing date/time module\n"
   ]
  },
  {
   "cell_type": "code",
   "execution_count": 2,
   "id": "0a44bcbd-325d-48bd-9326-a3f003808ab6",
   "metadata": {
    "tags": []
   },
   "outputs": [
    {
     "data": {
      "text/plain": [
       "<Response [200]>"
      ]
     },
     "execution_count": 2,
     "metadata": {},
     "output_type": "execute_result"
    }
   ],
   "source": [
    "resp = rq.get('http://www2.cao.ie/points/l8.php') # Getting CAO points data for 2021\n",
    "\n",
    "resp # checking response. 200 = succesful"
   ]
  },
  {
   "cell_type": "code",
   "execution_count": 3,
   "id": "29bb6706-bd75-4fec-b27d-52e5f59c0527",
   "metadata": {},
   "outputs": [],
   "source": [
    "now = dt.datetime.now() # Get the current date and time.\n",
    "\n",
    "nowstr = now.strftime('%Y%m%d_%H%M%S') # # Format date and time as a string.\n",
    "\n",
    "pathhtml = 'resp_' + nowstr + '.html' # Creating file path"
   ]
  },
  {
   "cell_type": "code",
   "execution_count": 4,
   "id": "be2220d7-0ce6-441a-82fd-5e9163db9f69",
   "metadata": {
    "tags": []
   },
   "outputs": [],
   "source": [
    "# If we decode per server as ISO-8859-1, it will be noted that one line uses \\x96 - not defined in ISO-8859-1. CP1252 is used instead.\n",
    "\n",
    "original_encoding = resp.encoding\n",
    "\n",
    "resp.encoding = 'cp1252'\n"
   ]
  },
  {
   "cell_type": "code",
   "execution_count": 5,
   "id": "05b52325-d7a7-431e-8c66-f9540303c124",
   "metadata": {},
   "outputs": [],
   "source": [
    "re_course = re.compile(r'([A-Z]{2}[0-9]{3})(.*)') # Compile the reg. expressions."
   ]
  },
  {
   "cell_type": "code",
   "execution_count": 6,
   "id": "b57ecb87-1167-49df-a678-dd44bfc35f3a",
   "metadata": {},
   "outputs": [],
   "source": [
    "with open(pathhtml, 'w') as f:\n",
    "    f.write(resp.text)"
   ]
  },
  {
   "cell_type": "code",
   "execution_count": 7,
   "id": "04d3759f-a01c-4e65-ac0a-e231c582f55d",
   "metadata": {},
   "outputs": [],
   "source": [
    "path2021 = 'resp_' + nowstr + '.csv'"
   ]
  },
  {
   "cell_type": "code",
   "execution_count": 8,
   "id": "22aba59b-e2bc-4282-bd95-0a9380c30591",
   "metadata": {},
   "outputs": [
    {
     "name": "stdout",
     "output_type": "stream",
     "text": [
      "Total number of lines is 949.\n"
     ]
    }
   ],
   "source": [
    "no_lines = 0 # Counting # of lines processed\n",
    "\n",
    "with open(path2021, 'w') as f:                                            # Open csv file to write\n",
    "   \n",
    "    f.write(','.join(['code', 'title', 'pointsR1', 'pointsR2']) + '\\n')   # Write file header\n",
    "    for line in resp.iter_lines():                                        # Loop thorugh lines of response data\n",
    "        dline = line.decode('cp1252')                                     # Decode line\n",
    "        if re_course.fullmatch(dline):                                    # Match only lines with a course\n",
    "            no_lines = no_lines + 1                                       # If matched,add '1' to the counter\n",
    "            course_code = dline[:5]                                       # Course code (5 characters)\n",
    "            course_title = dline[7:57].strip()                            # Course title and stripping out blanks\n",
    "            course_points = re.split(' +', dline[60:])                    # First round points accounting for spaces\n",
    "            if len(course_points) != 2:                                   # Second round points - if applicable.\n",
    "                course_points = course_points[:2]\n",
    "            linesplit = [course_code, course_title, course_points[0], course_points[1]] # Creating header array.\n",
    "            f.write(','.join(linesplit) + '\\n')                           # Rejoining split values with comma seperation and adding new line for each course\n",
    "\n",
    "print(f\"Total number of lines is {no_lines}.\")                            # Number of processed lines"
   ]
  },
  {
   "cell_type": "code",
   "execution_count": 9,
   "id": "5c80d992-2e8e-4930-8593-2aac163ed85b",
   "metadata": {},
   "outputs": [],
   "source": [
    "df2021 = pd.read_csv(path2021, encoding='cp1252')"
   ]
  },
  {
   "cell_type": "code",
   "execution_count": null,
   "id": "542cfdce-f713-490e-9c84-3546a5755abb",
   "metadata": {},
   "outputs": [],
   "source": [
    "print (df2021)"
   ]
  },
  {
   "cell_type": "code",
   "execution_count": 69,
   "id": "94f9d32a-ea94-4d52-ab10-47d006f83f7b",
   "metadata": {},
   "outputs": [
    {
     "name": "stdout",
     "output_type": "stream",
     "text": [
      "<function cao_data at 0x0000024B540651F0>\n"
     ]
    }
   ],
   "source": [
    "def cao_data():\n",
    "    \n",
    "    url = 'http://www2.cao.ie/points/CAOPointsCharts2020.xlsx' # URL for 2020 points\n",
    "    \n",
    "    df = pd.read_excel(url, skiprows = 10)                     # read in excel file, skipping first 10 rows that do not contain course data    \n",
    "\n",
    "    # Renaming columns to match 2021 file\n",
    "\n",
    "    df.rename(columns={\"COURSE CODE2\": \"code\", \"R1 POINTS\": \"pointsR1\", \"R2 POINTS\": \"pointsR2\", \"COURSE TITLE\": \"title\"}, inplace=True)\n",
    "\n",
    "    new_col_order = ['code', 'title', 'pointsR1', 'pointsR2', 'LEVEL']   # New column order list\n",
    "    f = df.reindex(columns = new_col_order)                              # Re-ordering columns\n",
    "\n",
    "    # Removing redundant columns\n",
    "\n",
    "    df.drop(['CATEGORY (i.e.ISCED description)', 'R1 Random *', 'R2 Random*','EOS','EOS Random *', 'EOS Mid-point', 'HEI', 'Test/Interview #', 'avp', 'v', 'Column1', 'Column2','Column3', 'Column4', 'Column5', 'Column6', 'Column7', 'Column8'], axis = 1)\n",
    "\n",
    "\n",
    "print(cao_data)   "
   ]
  },
  {
   "cell_type": "code",
   "execution_count": null,
   "id": "74a5666d-8566-4acf-8408-d88f380773f3",
   "metadata": {},
   "outputs": [],
   "source": []
  },
  {
   "cell_type": "code",
   "execution_count": null,
   "id": "c53f5650-29ba-4088-b5b9-f50654b579e5",
   "metadata": {},
   "outputs": [],
   "source": []
  }
 ],
 "metadata": {
  "kernelspec": {
   "display_name": "Python 3",
   "language": "python",
   "name": "python3"
  },
  "language_info": {
   "codemirror_mode": {
    "name": "ipython",
    "version": 3
   },
   "file_extension": ".py",
   "mimetype": "text/x-python",
   "name": "python",
   "nbconvert_exporter": "python",
   "pygments_lexer": "ipython3",
   "version": "3.8.8"
  }
 },
 "nbformat": 4,
 "nbformat_minor": 5
}
