{
 "cells": [
  {
   "cell_type": "markdown",
   "id": "34abb947-ee79-4064-bc46-59186c9bd82b",
   "metadata": {},
   "source": [
    "## Fundamentals of Data Analysis, Winter 21/22\n",
    "#### Author: Brendan Tunney\n",
    "#### Student ID - G00270683\n",
    "\n",
    "\n",
    "## (i) matplotlib.pyplot"
   ]
  },
  {
   "cell_type": "markdown",
   "id": "36ba92d0-7d76-463f-8280-fafc9861a8f2",
   "metadata": {},
   "source": [
    "![](data:image/png;base64,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) "
   ]
  },
  {
   "cell_type": "markdown",
   "id": "49c5cf32-a69b-4386-96d6-e38ff6b1ed5b",
   "metadata": {},
   "source": [
    "- ### Matplotlib is a library package created by John Hunter which is used for data visualisation in Python [1]."
   ]
  },
  {
   "cell_type": "markdown",
   "id": "b919a109-26b8-4e94-91b6-1a9adcb93e86",
   "metadata": {},
   "source": [
    "- ### Matplotlib is open source, meaning it is freely available for people to see, use and modify[1]."
   ]
  },
  {
   "cell_type": "markdown",
   "id": "0d3a2093-a7b7-4b46-8ed4-dfb505390e34",
   "metadata": {},
   "source": [
    "- ### matplotlib.pyplot is a module within matplotlib that uses command functions to change a figure. For example, you can use it create a standard X/Y axis graph, change the colour of the plots or add a label etc [2]. "
   ]
  },
  {
   "cell_type": "markdown",
   "id": "ab59e38f-0002-429a-8fa8-d2d35a8e708b",
   "metadata": {},
   "source": [
    "- ### Example of a basic pyplot below [2].\n",
    "\n",
    " ![](Matplotlib_pyplot.png)"
   ]
  }
 ],
 "metadata": {
  "kernelspec": {
   "display_name": "Python 3",
   "language": "python",
   "name": "python3"
  },
  "language_info": {
   "codemirror_mode": {
    "name": "ipython",
    "version": 3
   },
   "file_extension": ".py",
   "mimetype": "text/x-python",
   "name": "python",
   "nbconvert_exporter": "python",
   "pygments_lexer": "ipython3",
   "version": "3.8.8"
  }
 },
 "nbformat": 4,
 "nbformat_minor": 5
}
